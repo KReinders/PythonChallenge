{
 "cells": [
  {
   "cell_type": "code",
   "execution_count": 1,
   "metadata": {
    "ExecuteTime": {
     "end_time": "2019-02-28T14:57:28.921111Z",
     "start_time": "2019-02-28T14:57:28.331046Z"
    }
   },
   "outputs": [],
   "source": [
    "import requests\n",
    "url = 'http://www.pythonchallenge.com/pc/rock/'\n",
    "username = 'kohsamui'\n",
    "password = 'thailand'\n",
    "\n",
    "def get_file(fn):\n",
    "    return requests.get(url+fn, auth=(username, password)).content.decode()\n",
    "\n",
    "file_name = 'warmup.txt'\n",
    "# file_name = 'up.txt'\n",
    "spec = get_file(file_name)"
   ]
  },
  {
   "cell_type": "code",
   "execution_count": 2,
   "metadata": {
    "ExecuteTime": {
     "end_time": "2019-02-28T14:57:28.952061Z",
     "start_time": "2019-02-28T14:57:28.931056Z"
    }
   },
   "outputs": [],
   "source": [
    "spec_split = list(filter(lambda x: x!=[], [x.split() for x in spec.split('\\n')]))\n",
    "dims = [int(x) for x in spec_split[1]]\n",
    "\n",
    "hors = [[int(x) for x in line] for line in spec_split[3:dims[0]+3]]\n",
    "vers = [[int(x) for x in line] for line in spec_split[dims[0]+4:]]\n",
    "\n",
    "assert len(hors) == dims[0], 'len hors is not dim[0]'\n",
    "assert len(vers) == dims[1], 'len vers is not dim[1]'"
   ]
  },
  {
   "cell_type": "code",
   "execution_count": 3,
   "metadata": {
    "ExecuteTime": {
     "end_time": "2019-02-28T14:57:28.982014Z",
     "start_time": "2019-02-28T14:57:28.960033Z"
    }
   },
   "outputs": [],
   "source": [
    "class Grid:\n",
    "    def __init__(self, x, y, hors, vers):\n",
    "        self.x = x\n",
    "        self.y = y\n",
    "        self.data = [[0]*x for _ in range(y)]\n",
    "        self.hors = hors\n",
    "        self.vers = vers\n",
    "    \n",
    "    def __str__(self):\n",
    "        grid2str(self.data)\n",
    "    \n",
    "    def copy(self):\n",
    "        return Grid(self.x, self.y, self.hors, self.vers)\n",
    "    \n",
    "def grid2str(data):\n",
    "        out_str = ''\n",
    "        for row in data:\n",
    "            for el in row:\n",
    "                out_str += '■ ' if el == 1 else 'X ' if el == 2 else '. '\n",
    "            out_str += '\\n'\n",
    "        return out_str\n",
    "\n",
    "def transpose(data):\n",
    "    return [[row[i] for row in data] for i in range(len(data[0]))]\n",
    "\n",
    "the_grid = Grid(dims[1], dims[0], hors, vers)\n",
    "grid = the_grid.data\n",
    "# 0 = Unknown\n",
    "# 1 = True\n",
    "# 2 = False"
   ]
  },
  {
   "cell_type": "code",
   "execution_count": 4,
   "metadata": {
    "ExecuteTime": {
     "end_time": "2019-02-28T14:57:29.011013Z",
     "start_time": "2019-02-28T14:57:28.988011Z"
    }
   },
   "outputs": [],
   "source": [
    "from PIL import Image\n",
    "from IPython.display import Image as im"
   ]
  },
  {
   "cell_type": "code",
   "execution_count": 5,
   "metadata": {
    "ExecuteTime": {
     "end_time": "2019-02-28T14:57:29.024991Z",
     "start_time": "2019-02-28T14:57:29.013997Z"
    }
   },
   "outputs": [],
   "source": [
    "row = [0]*11\n",
    "spec = [1,2,3]\n",
    "\n",
    "def get_short(row, spec):\n",
    "    ones = [[1]*x for x in spec]\n",
    "    out = []\n",
    "    for x in ones:\n",
    "        out += x + [0]\n",
    "    return out\n",
    "\n",
    "short = get_short(row, spec)\n",
    "\n",
    "def get_pos(in_list, locations, free):\n",
    "    if free < 1:\n",
    "        in_list.pop()\n",
    "        return [in_list]\n",
    "    out_lists = []\n",
    "    for i in locations:\n",
    "        new_locations = [x+1 if x>=i else x for x in locations]\n",
    "        new_in = in_list.copy()\n",
    "        new_in.insert(i, 0)\n",
    "        new_list = get_pos(new_in, new_locations, free-1)\n",
    "        out_lists = out_lists + new_list\n",
    "    return out_lists\n",
    "    \n",
    "\n",
    "def all_pos(short, l):\n",
    "    free = l - len(short) + 1\n",
    "    out = []\n",
    "    locs = [0]\n",
    "    for i in range(len(short)):\n",
    "        if short[i] == 0:\n",
    "            locs.append(i)\n",
    "    \n",
    "    out = out + get_pos(short, locs, free)\n",
    "    return out\n",
    "    \n",
    "pos = all_pos(short, len(row))\n"
   ]
  },
  {
   "cell_type": "code",
   "execution_count": 6,
   "metadata": {
    "ExecuteTime": {
     "end_time": "2019-02-28T14:57:29.044981Z",
     "start_time": "2019-02-28T14:57:29.025990Z"
    }
   },
   "outputs": [
    {
     "name": "stdout",
     "output_type": "stream",
     "text": [
      ". . . X ■ X . . . \n",
      "■ X X ■ ■ ■ X X ■ \n",
      ". . . ■ ■ ■ . . . \n",
      "X ■ ■ ■ ■ ■ ■ ■ X \n",
      "■ ■ ■ ■ ■ ■ ■ ■ ■ \n",
      "X X X ■ ■ ■ X X X \n",
      "■ ■ X ■ ■ ■ X ■ ■ \n",
      "■ ■ X ■ ■ ■ X ■ ■ \n",
      "■ ■ X ■ ■ ■ X ■ ■ \n",
      " z2t vers\n"
     ]
    }
   ],
   "source": [
    "test_row = [0]*32\n",
    "test_spec = [1,1,2,3,4,5,6]\n",
    "\n",
    "def zero2two(row):\n",
    "    return [1 if x==1 else 2 for x in row]\n",
    "\n",
    "def first_pass(row, spec):\n",
    "    out_row = row.copy()\n",
    "    extra_space = len(row) - (sum(spec) + len(spec) - 1)\n",
    "    # print(sum(spec))\n",
    "    if extra_space > max(spec):\n",
    "        return out_row\n",
    "    curr_spec = spec[0]\n",
    "    i=0\n",
    "    for this_spec in spec:\n",
    "        if this_spec > extra_space:\n",
    "            out_row[(i+extra_space):(i+this_spec)] = [1]*(this_spec-extra_space)\n",
    "        i+=1+this_spec\n",
    "    if extra_space <= 0:\n",
    "        out_row = zero2two(out_row)\n",
    "    return out_row\n",
    "        \n",
    "test_pass = first_pass(test_row, test_spec)\n",
    "expected = [0,0,0,0,0,0,0,0,0,0,0,0,0,0,0,0,0,0,0,0,1,0,0,0,0,0,1,1,0,0,0,0]\n",
    "assert test_pass == expected\n",
    "\n",
    "fp_grid1 = []\n",
    "for i in range(len(the_grid.data)):\n",
    "    fp_grid1.append(first_pass(the_grid.data[i], the_grid.hors[i]))\n",
    "# print(grid2str(fp_grid1), 'hors')\n",
    "\n",
    "fp_grid2 = []\n",
    "for i in range(len(the_grid.data)):\n",
    "    fp_grid2.append(first_pass(transpose(the_grid.data)[i], the_grid.vers[i]))\n",
    "fp_grid2 = transpose(fp_grid2)\n",
    "# print(grid2str(fp_grid2), 'vers')\n",
    "\n",
    "\n",
    "for row in range(len(fp_grid1)):\n",
    "    for el in range(len(fp_grid1[row])):\n",
    "        if fp_grid1[row][el] == 0:\n",
    "            fp_grid1[row][el] = fp_grid2[row][el]\n",
    "# print(grid2str(fp_grid1), 'comb')\n",
    "\n",
    "for i in range(len(fp_grid1)):\n",
    "    if sum(fp_grid1[i]) == sum(the_grid.hors[i]):\n",
    "        fp_grid1[i] = zero2two(fp_grid1[i])\n",
    "# print(grid2str(fp_grid1), 'z2t hors')\n",
    "\n",
    "tr_grid = transpose(fp_grid1)\n",
    "for i in range(len(tr_grid)):\n",
    "    if sum(tr_grid[i]) == sum(the_grid.vers[i]):\n",
    "        tr_grid[i] = zero2two(tr_grid[i])\n",
    "print(grid2str(transpose(tr_grid)), 'z2t vers')\n",
    "\n",
    "fp_grid = transpose(tr_grid)"
   ]
  },
  {
   "cell_type": "code",
   "execution_count": 7,
   "metadata": {
    "ExecuteTime": {
     "end_time": "2019-02-28T14:57:29.083973Z",
     "start_time": "2019-02-28T14:57:29.046976Z"
    }
   },
   "outputs": [
    {
     "data": {
      "image/png": "[encoded data removed]",
      "text/plain": [
       "<IPython.core.display.Image object>"
      ]
     },
     "execution_count": 7,
     "metadata": {},
     "output_type": "execute_result"
    }
   ],
   "source": [
    "# with 0, 1 and 2 zero is white\n",
    "grid_data = fp_grid\n",
    "\n",
    "data = [[0 if x==1 else 1 for x in row] for row in grid_data]\n",
    "img = Image.new('1', (len(data[0]), len(data)))\n",
    "img.putdata([x for line in data for x in line])\n",
    "size = 500 // max(len(data), len(data[0]))\n",
    "img = img.resize((len(data[0])*size, len(data)*size))\n",
    "img.save('nonogram.png')\n",
    "im('nonogram.png')"
   ]
  },
  {
   "cell_type": "code",
   "execution_count": null,
   "metadata": {},
   "outputs": [],
   "source": [
    "# [2,2,2,2,1,1,0,2,0] + [3] = [2,2,2,2,1,1,1,2,2]\n",
    "in_row = [2,2,2,2,1,1,0,2,0]\n",
    "in_spec = [3]\n",
    "expected = [2,2,2,2,1,1,1,2,2]\n",
    "\n",
    "def start_positions(row):\n",
    "    prev = 2\n",
    "    out_pos = []\n",
    "    for i in range(len(row)):\n",
    "        if row[i] == 1 and prev == 2:\n",
    "            out_pos.append(i)\n",
    "    return out_pos\n",
    "\n",
    "for pos in start_positions(row):\n",
    "    if spec fits in start position:\n",
    "        output startposition\n",
    "        "
   ]
  }
 ],
 "metadata": {
  "kernelspec": {
   "display_name": "Python 3",
   "language": "python",
   "name": "python3"
  },
  "language_info": {
   "codemirror_mode": {
    "name": "ipython",
    "version": 3
   },
   "file_extension": ".py",
   "mimetype": "text/x-python",
   "name": "python",
   "nbconvert_exporter": "python",
   "pygments_lexer": "ipython3",
   "version": "3.7.1"
  },
  "varInspector": {
   "cols": {
    "lenName": 16,
    "lenType": 16,
    "lenVar": 40
   },
   "kernels_config": {
    "python": {
     "delete_cmd_postfix": "",
     "delete_cmd_prefix": "del ",
     "library": "var_list.py",
     "varRefreshCmd": "print(var_dic_list())"
    },
    "r": {
     "delete_cmd_postfix": ") ",
     "delete_cmd_prefix": "rm(",
     "library": "var_list.r",
     "varRefreshCmd": "cat(var_dic_list()) "
    }
   },
   "types_to_exclude": [
    "module",
    "function",
    "builtin_function_or_method",
    "instance",
    "_Feature"
   ],
   "window_display": false
  }
 },
 "nbformat": 4,
 "nbformat_minor": 2
}
