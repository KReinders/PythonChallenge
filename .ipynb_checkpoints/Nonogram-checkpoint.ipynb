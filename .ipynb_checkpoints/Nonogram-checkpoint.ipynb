{
 "cells": [
  {
   "cell_type": "code",
   "execution_count": 19,
   "metadata": {},
   "outputs": [],
   "source": [
    "import requests\n",
    "url = 'http://www.pythonchallenge.com/pc/rock/'\n",
    "username = 'kohsamui'\n",
    "password = 'thailand'\n",
    "\n",
    "def get_file(fn):\n",
    "    return requests.get(url+fn, auth=(username, password)).content.decode()\n",
    "\n",
    "file_name = 'warmup.txt'\n",
    "spec = get_file(file_name)"
   ]
  },
  {
   "cell_type": "code",
   "execution_count": 36,
   "metadata": {},
   "outputs": [],
   "source": [
    "spec_split = list(filter(lambda x: x!=[], [x.split() for x in spec.split('\\n')]))\n",
    "dims = [int(x) for x in spec_split[1]]\n",
    "\n",
    "hors = [[int(x) for x in line] for line in spec_split[3:dims[0]+3]]\n",
    "vers = [[int(x) for x in line] for line in spec_split[dims[0]+4:]]\n",
    "\n",
    "assert len(hors) == dims[0], 'len hors is not dim[0]'\n",
    "assert len(vers) == dims[1], 'len vers is not dim[1]'"
   ]
  },
  {
   "cell_type": "code",
   "execution_count": 80,
   "metadata": {},
   "outputs": [
    {
     "data": {
      "text/plain": [
       "[[0, 0, 0, 0, 0, 0, 0, 0, 0],\n",
       " [0, 0, 0, 0, 0, 0, 0, 0, 0],\n",
       " [0, 0, 0, 0, 0, 0, 0, 0, 0],\n",
       " [0, 0, 0, 0, 0, 0, 0, 0, 0],\n",
       " [0, 0, 0, 0, 0, 0, 0, 0, 0],\n",
       " [0, 0, 0, 0, 0, 0, 0, 0, 0],\n",
       " [0, 0, 0, 0, 0, 0, 0, 0, 0],\n",
       " [0, 0, 0, 0, 0, 0, 0, 0, 0],\n",
       " [0, 0, 0, 0, 0, 0, 0, 0, 0]]"
      ]
     },
     "execution_count": 80,
     "metadata": {},
     "output_type": "execute_result"
    }
   ],
   "source": [
    "grid = [[0]*dims[1]]*dims[0]\n",
    "\n",
    "grid"
   ]
  },
  {
   "cell_type": "code",
   "execution_count": null,
   "metadata": {},
   "outputs": [],
   "source": [
    "from PIL import Image\n",
    "from IPython.display import Image as im"
   ]
  },
  {
   "cell_type": "code",
   "execution_count": 82,
   "metadata": {},
   "outputs": [],
   "source": [
    "img = Image.new('1', (len(grid[0]), len(grid)))\n",
    "img.putdata([x for line in grid for x in line])\n",
    "size = 500 // max(len(grid), len(grid[0]))\n",
    "img = img.resize((len(grid[0])*size, len(grid)*size))\n",
    "img.save('nonogram.png')\n",
    "# im('nonogram.png')"
   ]
  }
 ],
 "metadata": {
  "kernelspec": {
   "display_name": "Python 3",
   "language": "python",
   "name": "python3"
  },
  "language_info": {
   "codemirror_mode": {
    "name": "ipython",
    "version": 3
   },
   "file_extension": ".py",
   "mimetype": "text/x-python",
   "name": "python",
   "nbconvert_exporter": "python",
   "pygments_lexer": "ipython3",
   "version": "3.7.1"
  }
 },
 "nbformat": 4,
 "nbformat_minor": 2
}
