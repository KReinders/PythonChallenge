{
 "cells": [
  {
   "cell_type": "code",
   "execution_count": 1,
   "metadata": {},
   "outputs": [],
   "source": [
    "import requests\n",
    "url = 'http://www.pythonchallenge.com/pc/rock/'\n",
    "username = 'kohsamui'\n",
    "password = 'thailand'\n",
    "\n",
    "def get_file(fn):\n",
    "    return requests.get(url+fn, auth=(username, password)).content.decode()\n",
    "\n",
    "file_name = 'warmup.txt'\n",
    "spec = get_file(file_name)"
   ]
  },
  {
   "cell_type": "code",
   "execution_count": 2,
   "metadata": {},
   "outputs": [],
   "source": [
    "spec_split = list(filter(lambda x: x!=[], [x.split() for x in spec.split('\\n')]))\n",
    "dims = [int(x) for x in spec_split[1]]\n",
    "\n",
    "hors = [[int(x) for x in line] for line in spec_split[3:dims[0]+3]]\n",
    "vers = [[int(x) for x in line] for line in spec_split[dims[0]+4:]]\n",
    "\n",
    "assert len(hors) == dims[0], 'len hors is not dim[0]'\n",
    "assert len(vers) == dims[1], 'len vers is not dim[1]'"
   ]
  },
  {
   "cell_type": "code",
   "execution_count": 3,
   "metadata": {},
   "outputs": [
    {
     "data": {
      "text/plain": [
       "[[0, 0, 0, 0, 0, 0, 0, 0, 0],\n",
       " [0, 0, 0, 0, 0, 0, 0, 0, 0],\n",
       " [0, 0, 0, 0, 0, 0, 0, 0, 0],\n",
       " [0, 0, 0, 0, 0, 0, 0, 0, 0],\n",
       " [0, 0, 0, 0, 0, 0, 0, 0, 0],\n",
       " [0, 0, 0, 0, 0, 0, 0, 0, 0],\n",
       " [0, 0, 0, 0, 0, 0, 0, 0, 0],\n",
       " [0, 0, 0, 0, 0, 0, 0, 0, 0],\n",
       " [0, 0, 0, 0, 0, 0, 0, 0, 0]]"
      ]
     },
     "execution_count": 3,
     "metadata": {},
     "output_type": "execute_result"
    }
   ],
   "source": [
    "grid = [[0]*dims[1]]*dims[0]\n",
    "\n",
    "grid"
   ]
  },
  {
   "cell_type": "code",
   "execution_count": 4,
   "metadata": {},
   "outputs": [],
   "source": [
    "from PIL import Image\n",
    "from IPython.display import Image as im"
   ]
  },
  {
   "cell_type": "code",
   "execution_count": 6,
   "metadata": {},
   "outputs": [],
   "source": [
    "img = Image.new('1', (len(grid[0]), len(grid)))\n",
    "img.putdata([x for line in grid for x in line])\n",
    "size = 500 // max(len(grid), len(grid[0]))\n",
    "img = img.resize((len(grid[0])*size, len(grid)*size))\n",
    "img.save('nonogram.png')\n",
    "# im('nonogram.png')"
   ]
  },
  {
   "cell_type": "code",
   "execution_count": 65,
   "metadata": {},
   "outputs": [
    {
     "data": {
      "text/plain": [
       "[[0, 0, 0, 1, 0, 1, 1, 0, 1, 1, 1],\n",
       " [0, 0, 1, 0, 0, 1, 1, 0, 1, 1, 1],\n",
       " [0, 0, 1, 0, 1, 1, 0, 0, 1, 1, 1],\n",
       " [0, 0, 1, 0, 1, 1, 0, 1, 1, 1, 0],\n",
       " [0, 0, 1, 0, 0, 1, 1, 0, 1, 1, 1],\n",
       " [0, 1, 0, 0, 0, 1, 1, 0, 1, 1, 1],\n",
       " [0, 1, 0, 0, 1, 1, 0, 0, 1, 1, 1],\n",
       " [0, 1, 0, 0, 1, 1, 0, 1, 1, 1, 0],\n",
       " [0, 0, 1, 0, 1, 1, 0, 0, 1, 1, 1],\n",
       " [0, 1, 0, 0, 1, 1, 0, 0, 1, 1, 1],\n",
       " [0, 1, 0, 1, 1, 0, 0, 0, 1, 1, 1],\n",
       " [0, 1, 0, 1, 1, 0, 0, 1, 1, 1, 0],\n",
       " [0, 0, 1, 0, 1, 1, 0, 1, 1, 1, 0],\n",
       " [0, 1, 0, 0, 1, 1, 0, 1, 1, 1, 0],\n",
       " [0, 1, 0, 1, 1, 0, 0, 1, 1, 1, 0],\n",
       " [0, 1, 0, 1, 1, 0, 1, 1, 1, 0, 0],\n",
       " [0, 0, 1, 0, 0, 1, 1, 0, 1, 1, 1],\n",
       " [0, 1, 0, 0, 0, 1, 1, 0, 1, 1, 1],\n",
       " [0, 1, 0, 0, 1, 1, 0, 0, 1, 1, 1],\n",
       " [0, 1, 0, 0, 1, 1, 0, 1, 1, 1, 0],\n",
       " [0, 1, 0, 0, 0, 1, 1, 0, 1, 1, 1],\n",
       " [1, 0, 0, 0, 0, 1, 1, 0, 1, 1, 1],\n",
       " [1, 0, 0, 0, 1, 1, 0, 0, 1, 1, 1],\n",
       " [1, 0, 0, 0, 1, 1, 0, 1, 1, 1, 0],\n",
       " [0, 1, 0, 0, 1, 1, 0, 0, 1, 1, 1],\n",
       " [1, 0, 0, 0, 1, 1, 0, 0, 1, 1, 1],\n",
       " [1, 0, 0, 1, 1, 0, 0, 0, 1, 1, 1],\n",
       " [1, 0, 0, 1, 1, 0, 0, 1, 1, 1, 0],\n",
       " [0, 1, 0, 0, 1, 1, 0, 1, 1, 1, 0],\n",
       " [1, 0, 0, 0, 1, 1, 0, 1, 1, 1, 0],\n",
       " [1, 0, 0, 1, 1, 0, 0, 1, 1, 1, 0],\n",
       " [1, 0, 0, 1, 1, 0, 1, 1, 1, 0, 0],\n",
       " [0, 0, 1, 0, 1, 1, 0, 0, 1, 1, 1],\n",
       " [0, 1, 0, 0, 1, 1, 0, 0, 1, 1, 1],\n",
       " [0, 1, 0, 1, 1, 0, 0, 0, 1, 1, 1],\n",
       " [0, 1, 0, 1, 1, 0, 0, 1, 1, 1, 0],\n",
       " [0, 1, 0, 0, 1, 1, 0, 0, 1, 1, 1],\n",
       " [1, 0, 0, 0, 1, 1, 0, 0, 1, 1, 1],\n",
       " [1, 0, 0, 1, 1, 0, 0, 0, 1, 1, 1],\n",
       " [1, 0, 0, 1, 1, 0, 0, 1, 1, 1, 0],\n",
       " [0, 1, 0, 1, 1, 0, 0, 0, 1, 1, 1],\n",
       " [1, 0, 0, 1, 1, 0, 0, 0, 1, 1, 1],\n",
       " [1, 0, 1, 1, 0, 0, 0, 0, 1, 1, 1],\n",
       " [1, 0, 1, 1, 0, 0, 0, 1, 1, 1, 0],\n",
       " [0, 1, 0, 1, 1, 0, 0, 1, 1, 1, 0],\n",
       " [1, 0, 0, 1, 1, 0, 0, 1, 1, 1, 0],\n",
       " [1, 0, 1, 1, 0, 0, 0, 1, 1, 1, 0],\n",
       " [1, 0, 1, 1, 0, 0, 1, 1, 1, 0, 0],\n",
       " [0, 0, 1, 0, 1, 1, 0, 1, 1, 1, 0],\n",
       " [0, 1, 0, 0, 1, 1, 0, 1, 1, 1, 0],\n",
       " [0, 1, 0, 1, 1, 0, 0, 1, 1, 1, 0],\n",
       " [0, 1, 0, 1, 1, 0, 1, 1, 1, 0, 0],\n",
       " [0, 1, 0, 0, 1, 1, 0, 1, 1, 1, 0],\n",
       " [1, 0, 0, 0, 1, 1, 0, 1, 1, 1, 0],\n",
       " [1, 0, 0, 1, 1, 0, 0, 1, 1, 1, 0],\n",
       " [1, 0, 0, 1, 1, 0, 1, 1, 1, 0, 0],\n",
       " [0, 1, 0, 1, 1, 0, 0, 1, 1, 1, 0],\n",
       " [1, 0, 0, 1, 1, 0, 0, 1, 1, 1, 0],\n",
       " [1, 0, 1, 1, 0, 0, 0, 1, 1, 1, 0],\n",
       " [1, 0, 1, 1, 0, 0, 1, 1, 1, 0, 0],\n",
       " [0, 1, 0, 1, 1, 0, 1, 1, 1, 0, 0],\n",
       " [1, 0, 0, 1, 1, 0, 1, 1, 1, 0, 0],\n",
       " [1, 0, 1, 1, 0, 0, 1, 1, 1, 0, 0],\n",
       " [1, 0, 1, 1, 0, 1, 1, 1, 0, 0, 0]]"
      ]
     },
     "execution_count": 65,
     "metadata": {},
     "output_type": "execute_result"
    }
   ],
   "source": [
    "row = [0]*11\n",
    "spec = [1,2,3]\n",
    "\n",
    "def get_short(row, spec):\n",
    "    ones = [[1]*x for x in spec]\n",
    "    out = []\n",
    "    for x in ones:\n",
    "        out += x + [0]\n",
    "    return out\n",
    "\n",
    "short = get_short(row, spec)\n",
    "\n",
    "def get_pos(in_list, locations, free):\n",
    "    if free < 1:\n",
    "        in_list.pop()\n",
    "        return [in_list]\n",
    "    out_lists = []\n",
    "    for i in locations:\n",
    "        new_locations = [x+1 if x>=i else x for x in locations]\n",
    "        new_in = in_list.copy()\n",
    "        new_in.insert(i, 0)\n",
    "        new_list = get_pos(new_in, new_locations, free-1)\n",
    "        out_lists = out_lists + new_list\n",
    "    return out_lists\n",
    "    \n",
    "\n",
    "def all_pos(short, l):\n",
    "    free = l - len(short) + 1\n",
    "    out = []\n",
    "    locs = [0]\n",
    "    for i in range(len(short)):\n",
    "        if short[i] == 0:\n",
    "            locs.append(i)\n",
    "    \n",
    "    out = out + get_pos(short, locs, free)\n",
    "    return out\n",
    "    \n",
    "pos = all_pos(short, len(row))\n",
    "\n",
    "pos"
   ]
  }
 ],
 "metadata": {
  "kernelspec": {
   "display_name": "Python 3",
   "language": "python",
   "name": "python3"
  },
  "language_info": {
   "codemirror_mode": {
    "name": "ipython",
    "version": 3
   },
   "file_extension": ".py",
   "mimetype": "text/x-python",
   "name": "python",
   "nbconvert_exporter": "python",
   "pygments_lexer": "ipython3",
   "version": "3.7.1"
  }
 },
 "nbformat": 4,
 "nbformat_minor": 2
}
